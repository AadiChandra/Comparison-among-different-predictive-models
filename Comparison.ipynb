{
  "nbformat": 4,
  "nbformat_minor": 0,
  "metadata": {
    "colab": {
      "provenance": []
    },
    "kernelspec": {
      "name": "python3",
      "display_name": "Python 3"
    },
    "language_info": {
      "name": "python"
    }
  },
  "cells": [
    {
      "cell_type": "code",
      "execution_count": 1,
      "metadata": {
        "colab": {
          "base_uri": "https://localhost:8080/"
        },
        "id": "YGEufFqQd7XJ",
        "outputId": "1155793e-4d7f-404b-c7c6-562eedad2455"
      },
      "outputs": [
        {
          "output_type": "stream",
          "name": "stdout",
          "text": [
            "   YearsExperience   Salary\n",
            "0              1.1  39343.0\n",
            "1              1.3  46205.0\n",
            "2              1.5  37731.0\n",
            "3              2.0  43525.0\n",
            "4              2.2  39891.0\n"
          ]
        }
      ],
      "source": [
        "import pandas as pd\n",
        "data = pd.read_csv('/content/Salary_Data.csv')\n",
        "\n",
        "# display the first five rows\n",
        "data_head = data.head()\n",
        "\n",
        "print(data_head)"
      ]
    },
    {
      "cell_type": "code",
      "source": [
        "print(data.info())"
      ],
      "metadata": {
        "colab": {
          "base_uri": "https://localhost:8080/"
        },
        "id": "aA9ZGSJieZge",
        "outputId": "602202a8-b782-4a4b-bab4-2bcf4679a289"
      },
      "execution_count": 2,
      "outputs": [
        {
          "output_type": "stream",
          "name": "stdout",
          "text": [
            "<class 'pandas.core.frame.DataFrame'>\n",
            "RangeIndex: 30 entries, 0 to 29\n",
            "Data columns (total 2 columns):\n",
            " #   Column           Non-Null Count  Dtype  \n",
            "---  ------           --------------  -----  \n",
            " 0   YearsExperience  30 non-null     float64\n",
            " 1   Salary           30 non-null     float64\n",
            "dtypes: float64(2)\n",
            "memory usage: 608.0 bytes\n",
            "None\n"
          ]
        }
      ]
    },
    {
      "cell_type": "code",
      "source": [
        "from sklearn.model_selection import train_test_split\n",
        "from sklearn.preprocessing import StandardScaler\n",
        "import datetime\n",
        "\n",
        "# define features and target variable\n",
        "X = data[['YearsExperience']]\n",
        "y = data['Salary']\n",
        "\n",
        "# split the data into training and testing sets\n",
        "X_train, X_test, y_train, y_test = train_test_split(X, y, test_size=0.2, random_state=42)\n",
        "\n",
        "# scale the features\n",
        "scaler = StandardScaler()\n",
        "X_train_scaled = scaler.fit_transform(X_train)\n",
        "X_test_scaled = scaler.transform(X_test)\n",
        "\n",
        "X_train_scaled.shape"
      ],
      "metadata": {
        "colab": {
          "base_uri": "https://localhost:8080/"
        },
        "id": "C64AQiAYeaGt",
        "outputId": "25538313-1d7d-424f-e7e4-8f3fede1e2d3"
      },
      "execution_count": 15,
      "outputs": [
        {
          "output_type": "execute_result",
          "data": {
            "text/plain": [
              "(24, 1)"
            ]
          },
          "metadata": {},
          "execution_count": 15
        }
      ]
    },
    {
      "cell_type": "code",
      "source": [
        "X_test_scaled.shape"
      ],
      "metadata": {
        "colab": {
          "base_uri": "https://localhost:8080/"
        },
        "id": "u5i00MQYe0E9",
        "outputId": "910f434a-45a3-4703-8636-55c1ebca0531"
      },
      "execution_count": 16,
      "outputs": [
        {
          "output_type": "execute_result",
          "data": {
            "text/plain": [
              "(6, 1)"
            ]
          },
          "metadata": {},
          "execution_count": 16
        }
      ]
    },
    {
      "cell_type": "code",
      "source": [
        "from sklearn.linear_model import LinearRegression\n",
        "from sklearn.tree import DecisionTreeRegressor\n",
        "from sklearn.ensemble import RandomForestRegressor, GradientBoostingRegressor\n",
        "from sklearn.metrics import mean_absolute_error, r2_score\n",
        "\n",
        "# initialize the models\n",
        "models = {\n",
        "    \"Linear Regression\": LinearRegression(),\n",
        "    \"Decision Tree\": DecisionTreeRegressor(random_state=42),\n",
        "    \"Random Forest\": RandomForestRegressor(random_state=42),\n",
        "    \"Gradient Boosting\": GradientBoostingRegressor(random_state=42)\n",
        "}\n",
        "\n",
        "# dictionary to hold the evaluation metrics for each model\n",
        "results = {}\n",
        "\n",
        "# train and evaluate each model\n",
        "for name, model in models.items():\n",
        "    # training the model\n",
        "    model.fit(X_train_scaled, y_train)\n",
        "\n",
        "    # making predictions on the test set\n",
        "    predictions = model.predict(X_test_scaled)\n",
        "\n",
        "    # calculating evaluation metrics\n",
        "    mae = mean_absolute_error(y_test, predictions)\n",
        "    r2 = r2_score(y_test, predictions)\n",
        "\n",
        "    # storing the metrics\n",
        "    results[name] = {\"MAE\": mae, \"R²\": r2}\n",
        "\n",
        "results_df = pd.DataFrame(results).T  # convert the results to a DataFrame for better readability\n",
        "print(results_df)"
      ],
      "metadata": {
        "colab": {
          "base_uri": "https://localhost:8080/"
        },
        "id": "wQX3jGuOe1JQ",
        "outputId": "c8103624-39ef-4d0f-aa40-fd2b79f1ce42"
      },
      "execution_count": 19,
      "outputs": [
        {
          "output_type": "stream",
          "name": "stdout",
          "text": [
            "                           MAE        R²\n",
            "Linear Regression  6286.453831  0.902446\n",
            "Decision Tree      8640.166667  0.802176\n",
            "Random Forest      6872.007671  0.875251\n",
            "Gradient Boosting  8530.496270  0.805220\n"
          ]
        }
      ]
    },
    {
      "cell_type": "code",
      "source": [],
      "metadata": {
        "id": "TW3j5F6Clm2o"
      },
      "execution_count": null,
      "outputs": []
    }
  ]
}